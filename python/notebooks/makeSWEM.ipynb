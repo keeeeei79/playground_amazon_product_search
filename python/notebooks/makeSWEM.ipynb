{
 "cells": [
  {
   "cell_type": "code",
   "execution_count": 1,
   "id": "91d41c7c-1b9f-41ce-b8ec-c362daf8fcfc",
   "metadata": {},
   "outputs": [],
   "source": [
    "import fasttext"
   ]
  },
  {
   "cell_type": "code",
   "execution_count": 2,
   "id": "91558708-078b-4633-8326-ad0a71dc622c",
   "metadata": {},
   "outputs": [
    {
     "name": "stderr",
     "output_type": "stream",
     "text": [
      "Warning : `load_model` does not return WordVectorModel or SupervisedModel any more, but a `FastText` object which is very similar.\n"
     ]
    }
   ],
   "source": [
    "fb_model = fasttext.load_model('../data/cc.ja.300.bin')"
   ]
  },
  {
   "cell_type": "code",
   "execution_count": 3,
   "id": "70db5381-22a1-43d0-9737-7f997b934d52",
   "metadata": {},
   "outputs": [],
   "source": [
    "import pandas as pd\n",
    "import numpy as np\n",
    "from lightgbm import LGBMRanker"
   ]
  },
  {
   "cell_type": "code",
   "execution_count": 4,
   "id": "caf645aa-8e56-41fb-bb9d-e3615644d81d",
   "metadata": {},
   "outputs": [],
   "source": [
    "train = pd.read_csv('../../data/examples_train.csv')\n",
    "test = pd.read_csv('../../data/examples_test.csv')"
   ]
  },
  {
   "cell_type": "code",
   "execution_count": 5,
   "id": "d0323d96-45ef-492f-b5ff-8a0b7eba0bde",
   "metadata": {},
   "outputs": [],
   "source": [
    "train['query'] = train['query'].astype(str)\n",
    "test['query'] = test['query'].astype(str)\n",
    "train['product_title'] = train['product_title'].astype(str)\n",
    "test['product_title'] = test['product_title'].astype(str)\n",
    "train['product_description'] = train['product_description'].astype(str)\n",
    "test['product_description'] = test['product_description'].astype(str)"
   ]
  },
  {
   "cell_type": "code",
   "execution_count": 6,
   "id": "38462bd8-e53b-4e37-8ed1-d0319df3c77e",
   "metadata": {},
   "outputs": [],
   "source": [
    "import unicodedata\n",
    "from janome.tokenizer import Tokenizer\n",
    "tokenizer = Tokenizer()\n",
    "def to_emb(text):\n",
    "    norm_text = unicodedata.normalize('NFKC', text).lower()\n",
    "    embs = np.array([[0]*300])\n",
    "    for token in tokenizer.tokenize(norm_text):\n",
    "        embs = np.vstack([embs, fb_model[token.surface]])\n",
    "    return np.max(embs, axis=0)"
   ]
  },
  {
   "cell_type": "code",
   "execution_count": 7,
   "id": "50eaabe7-2997-499f-9c9a-ef3f8793a7c6",
   "metadata": {},
   "outputs": [],
   "source": [
    "train_query = train['query'].map(to_emb)\n",
    "test_query = test['query'].map(to_emb)"
   ]
  },
  {
   "cell_type": "code",
   "execution_count": 8,
   "id": "4b09b32c-4d28-4395-98a2-5e0b4066cc33",
   "metadata": {},
   "outputs": [],
   "source": [
    "train_title = train['product_title'].map(to_emb)\n",
    "test_title = test['product_title'].map(to_emb)"
   ]
  },
  {
   "cell_type": "code",
   "execution_count": 9,
   "id": "7b649c12-e2b0-487e-bc10-cb421428baf4",
   "metadata": {},
   "outputs": [],
   "source": [
    "train_desc = train['product_description'].map(to_emb)\n",
    "test_desc = test['product_description'].map(to_emb)"
   ]
  },
  {
   "cell_type": "code",
   "execution_count": 10,
   "id": "e540c15f-e65a-4385-9a02-904e180b531f",
   "metadata": {},
   "outputs": [],
   "source": [
    "train_query = np.vstack(train_query.tolist())\n",
    "test_query = np.vstack(test_query.tolist())\n",
    "train_title = np.vstack(train_title.tolist())\n",
    "test_title = np.vstack(test_title.tolist())\n",
    "train_desc = np.vstack(train_desc.tolist())\n",
    "test_desc = np.vstack(test_desc.tolist())"
   ]
  },
  {
   "cell_type": "code",
   "execution_count": 11,
   "id": "c7ed3272-87dc-4203-b4e8-8d588d509fd4",
   "metadata": {},
   "outputs": [],
   "source": [
    "np.save('../../data/train_query.npy', train_query)\n",
    "np.save('../../data/test_query.npy', test_query)\n",
    "np.save('../../data/train_title.npy', train_title)\n",
    "np.save('../../data/test_title.npy', test_title)\n",
    "np.save('../../data/train_desc.npy', train_desc)\n",
    "np.save('../../data/test_desc.npy', test_desc)"
   ]
  },
  {
   "cell_type": "code",
   "execution_count": null,
   "id": "21a53993-f9c8-414e-89a5-3ccc54bdd67a",
   "metadata": {},
   "outputs": [],
   "source": []
  },
  {
   "cell_type": "code",
   "execution_count": 153,
   "id": "f4fd65d1-372f-4722-9d5a-6aa5575dc257",
   "metadata": {},
   "outputs": [],
   "source": [
    "# tmp = np.load('../../data/train_query.npy', allow_pickle=True)\n",
    "tmp = np.load('../../data/train_query.npy', allow_pickle=True)"
   ]
  },
  {
   "cell_type": "code",
   "execution_count": 154,
   "id": "ae08b731-600e-41dd-b9cf-5341b6fe7aeb",
   "metadata": {},
   "outputs": [
    {
     "data": {
      "text/plain": [
       "(172538, 300)"
      ]
     },
     "execution_count": 154,
     "metadata": {},
     "output_type": "execute_result"
    }
   ],
   "source": [
    "tmp.shape"
   ]
  },
  {
   "cell_type": "code",
   "execution_count": 155,
   "id": "a7da62ff-c5e4-4601-8c27-482827f57ece",
   "metadata": {},
   "outputs": [
    {
     "data": {
      "text/plain": [
       "array([[0.03079993, 0.12200921, 0.46727759, ..., 0.11270333, 0.0227459 ,\n",
       "        0.        ],\n",
       "       [0.03079993, 0.12200921, 0.46727759, ..., 0.11270333, 0.0227459 ,\n",
       "        0.        ],\n",
       "       [0.03079993, 0.12200921, 0.46727759, ..., 0.11270333, 0.0227459 ,\n",
       "        0.        ],\n",
       "       ...,\n",
       "       [0.00129   , 0.        , 0.00586137, ..., 0.        , 0.10294583,\n",
       "        0.        ],\n",
       "       [0.00129   , 0.        , 0.00586137, ..., 0.        , 0.10294583,\n",
       "        0.        ],\n",
       "       [0.00129   , 0.        , 0.00586137, ..., 0.        , 0.10294583,\n",
       "        0.        ]])"
      ]
     },
     "execution_count": 155,
     "metadata": {},
     "output_type": "execute_result"
    }
   ],
   "source": [
    "tmp"
   ]
  },
  {
   "cell_type": "code",
   "execution_count": null,
   "id": "ede41789-165a-41ef-9bc4-132de9c330bc",
   "metadata": {},
   "outputs": [],
   "source": []
  }
 ],
 "metadata": {
  "kernelspec": {
   "display_name": "Python 3 (ipykernel)",
   "language": "python",
   "name": "python3"
  },
  "language_info": {
   "codemirror_mode": {
    "name": "ipython",
    "version": 3
   },
   "file_extension": ".py",
   "mimetype": "text/x-python",
   "name": "python",
   "nbconvert_exporter": "python",
   "pygments_lexer": "ipython3",
   "version": "3.10.8"
  }
 },
 "nbformat": 4,
 "nbformat_minor": 5
}
