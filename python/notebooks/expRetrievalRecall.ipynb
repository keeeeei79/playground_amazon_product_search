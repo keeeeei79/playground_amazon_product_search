{
 "cells": [
  {
   "cell_type": "code",
   "execution_count": 15,
   "id": "11b53232-7dff-43d3-bc26-589846649e56",
   "metadata": {},
   "outputs": [],
   "source": [
    "import sys\n",
    "sys.path.append('../proto/')\n",
    "\n",
    "import search_pb2\n",
    "import search_pb2_grpc\n",
    "import grpc"
   ]
  },
  {
   "cell_type": "code",
   "execution_count": 16,
   "id": "53202197-d270-47ee-bb7e-ad42389b5fa5",
   "metadata": {},
   "outputs": [],
   "source": [
    "channel = grpc.insecure_channel('localhost:50051')\n",
    "stub = search_pb2_grpc.SearchServiceStub(channel)"
   ]
  },
  {
   "cell_type": "code",
   "execution_count": 17,
   "id": "368bb045-2de3-4a3e-b2d1-d2b40aacb28e",
   "metadata": {},
   "outputs": [],
   "source": [
    "req = search_pb2.Request(keyword='test')"
   ]
  },
  {
   "cell_type": "code",
   "execution_count": 18,
   "id": "95571e61-7b9e-4e1f-9183-1a7ade48b1fd",
   "metadata": {},
   "outputs": [],
   "source": [
    "res = stub.Search(req)"
   ]
  },
  {
   "cell_type": "code",
   "execution_count": 19,
   "id": "09455f2e-29ed-407f-9b13-0b1a126aa5b7",
   "metadata": {},
   "outputs": [],
   "source": [
    "docs = res.docs"
   ]
  },
  {
   "cell_type": "code",
   "execution_count": 20,
   "id": "479f4b11-a94f-4d36-95be-b406c8bdc12a",
   "metadata": {},
   "outputs": [
    {
     "data": {
      "text/plain": [
       "id: \"B081B7SXZS\"\n",
       "title: \"test-title-comixology\""
      ]
     },
     "execution_count": 20,
     "metadata": {},
     "output_type": "execute_result"
    }
   ],
   "source": [
    "docs[0]"
   ]
  },
  {
   "cell_type": "markdown",
   "id": "75f29b32-89c1-44f9-9404-e78e871112c9",
   "metadata": {},
   "source": [
    "# Retrievalの精度をパラメータを変えて調べる\n",
    "- Retrievalなのでとりあえずrecallが高いことが保証できればいいとする"
   ]
  },
  {
   "cell_type": "code",
   "execution_count": 48,
   "id": "6cf64aad-cb21-4a4b-a709-d928fbda5fb6",
   "metadata": {},
   "outputs": [],
   "source": [
    "import pandas as pd\n",
    "import numpy as np\n",
    "import matplotlib.pyplot as plt\n",
    "import tqdm"
   ]
  },
  {
   "cell_type": "code",
   "execution_count": 22,
   "id": "9cb73e0d-ba4b-4fa7-9c3c-90fdfebc655f",
   "metadata": {},
   "outputs": [],
   "source": [
    "train = pd.read_csv('../../data/examples_train.csv')"
   ]
  },
  {
   "cell_type": "code",
   "execution_count": 69,
   "id": "ff593317-8922-429a-896e-589aeb4c52d4",
   "metadata": {},
   "outputs": [],
   "source": [
    "# 関連度が高いものがどれくらい含まれているかを調べるためにSubstituteまでをrecallを計算する評価対象にする\n",
    "relevant_df = train[train['esci_label']>=0.1].copy()"
   ]
  },
  {
   "cell_type": "markdown",
   "id": "e7f94f11-1fde-49ec-aea2-f580aacedf73",
   "metadata": {},
   "source": [
    "## Exp1\n",
    "- スコア関数は`title bm25 * 1 + description bm25 * 0.1`\n",
    "- 各クエリで100件ずつ取得し、そのrecall@100の分布を調べる"
   ]
  },
  {
   "cell_type": "code",
   "execution_count": 70,
   "id": "1741914f-e349-4ef1-a818-df0ea5449a5f",
   "metadata": {},
   "outputs": [
    {
     "name": "stderr",
     "output_type": "stream",
     "text": [
      "100%|█████████████████████████████████████████████████████████████████████████████████████████████████████████████████████████████| 7247/7247 [02:20<00:00, 51.56it/s]\n"
     ]
    }
   ],
   "source": [
    "queries = []\n",
    "recalls = []\n",
    "for q, gr in tqdm.tqdm(relevant_df.groupby('query')):\n",
    "    req = search_pb2.Request(keyword=q)\n",
    "    res = stub.Search(req)\n",
    "    res_ids = set(map(lambda x: x.id, res.docs))\n",
    "    true_ids = set(gr.product_id.unique())\n",
    "    recall = len(res_ids&true_ids)/len(true_ids)\n",
    "    recalls.append(recall)\n",
    "    queries.append(q)"
   ]
  },
  {
   "cell_type": "code",
   "execution_count": 71,
   "id": "8276fb2e-b7ac-4f7f-bb9c-6d372890d41b",
   "metadata": {},
   "outputs": [
    {
     "data": {
      "text/plain": [
       "(array([1285.,  466.,  607.,  482.,  514.,  761.,  650.,  583.,  672.,\n",
       "        1227.]),\n",
       " array([0. , 0.1, 0.2, 0.3, 0.4, 0.5, 0.6, 0.7, 0.8, 0.9, 1. ]),\n",
       " <BarContainer object of 10 artists>)"
      ]
     },
     "execution_count": 71,
     "metadata": {},
     "output_type": "execute_result"
    },
    {
     "data": {
      "image/png": "[encoded data removed]",
      "text/plain": [
       "<Figure size 640x480 with 1 Axes>"
      ]
     },
     "metadata": {},
     "output_type": "display_data"
    }
   ],
   "source": [
    "plt.hist(recalls)"
   ]
  },
  {
   "cell_type": "code",
   "execution_count": 72,
   "id": "3dcc6200-b615-41ce-866a-cae87f1ffcb1",
   "metadata": {},
   "outputs": [
    {
     "data": {
      "text/plain": [
       "count    7247.000000\n",
       "mean        0.505578\n",
       "std         0.336961\n",
       "min         0.000000\n",
       "25%         0.200000\n",
       "50%         0.521739\n",
       "75%         0.800000\n",
       "max         1.000000\n",
       "dtype: float64"
      ]
     },
     "execution_count": 72,
     "metadata": {},
     "output_type": "execute_result"
    }
   ],
   "source": [
    "pd.Series(recalls).describe()"
   ]
  },
  {
   "cell_type": "code",
   "execution_count": 73,
   "id": "881fb0d8-9fe8-49a9-a4f5-486e6c70c72e",
   "metadata": {},
   "outputs": [],
   "source": [
    "pos_q = queries[np.argmax(recalls)]\n",
    "neg_q = queries[np.argmin(recalls)]\n",
    "use_cols = ['query', 'product_title', 'product_description']"
   ]
  },
  {
   "cell_type": "code",
   "execution_count": 74,
   "id": "3d44513c-5a7f-48ae-b8a0-a1944a2f57ee",
   "metadata": {},
   "outputs": [
    {
     "data": {
      "text/html": [
       "<div>\n",
       "<style scoped>\n",
       "    .dataframe tbody tr th:only-of-type {\n",
       "        vertical-align: middle;\n",
       "    }\n",
       "\n",
       "    .dataframe tbody tr th {\n",
       "        vertical-align: top;\n",
       "    }\n",
       "\n",
       "    .dataframe thead th {\n",
       "        text-align: right;\n",
       "    }\n",
       "</style>\n",
       "<table border=\"1\" class=\"dataframe\">\n",
       "  <thead>\n",
       "    <tr style=\"text-align: right;\">\n",
       "      <th></th>\n",
       "      <th>query</th>\n",
       "      <th>product_title</th>\n",
       "      <th>product_description</th>\n",
       "    </tr>\n",
       "  </thead>\n",
       "  <tbody>\n",
       "    <tr>\n",
       "      <th>99</th>\n",
       "      <td>(知っていることはあまりないけれど)家族です</td>\n",
       "      <td>韓国ドラマ 《知っていることはあまりないけれど家族です》 全話セット DVD版 日本語字幕</td>\n",
       "      <td>韓国ドラマ　《知っていることはあまりないけれど家族です》　全話セット　DVD版　日本語字幕です。</td>\n",
       "    </tr>\n",
       "  </tbody>\n",
       "</table>\n",
       "</div>"
      ],
      "text/plain": [
       "                     query                                  product_title  \\\n",
       "99  (知っていることはあまりないけれど)家族です  韓国ドラマ 《知っていることはあまりないけれど家族です》 全話セット DVD版 日本語字幕   \n",
       "\n",
       "                                 product_description  \n",
       "99  韓国ドラマ　《知っていることはあまりないけれど家族です》　全話セット　DVD版　日本語字幕です。  "
      ]
     },
     "execution_count": 74,
     "metadata": {},
     "output_type": "execute_result"
    }
   ],
   "source": [
    "relevant_df.loc[train['query']==pos_q, use_cols]"
   ]
  },
  {
   "cell_type": "code",
   "execution_count": 75,
   "id": "47f9315b-6f27-4e88-9418-bdf5153e7b5d",
   "metadata": {},
   "outputs": [
    {
     "data": {
      "text/html": [
       "<div>\n",
       "<style scoped>\n",
       "    .dataframe tbody tr th:only-of-type {\n",
       "        vertical-align: middle;\n",
       "    }\n",
       "\n",
       "    .dataframe tbody tr th {\n",
       "        vertical-align: top;\n",
       "    }\n",
       "\n",
       "    .dataframe thead th {\n",
       "        text-align: right;\n",
       "    }\n",
       "</style>\n",
       "<table border=\"1\" class=\"dataframe\">\n",
       "  <thead>\n",
       "    <tr style=\"text-align: right;\">\n",
       "      <th></th>\n",
       "      <th>query</th>\n",
       "      <th>product_title</th>\n",
       "      <th>product_description</th>\n",
       "    </tr>\n",
       "  </thead>\n",
       "  <tbody>\n",
       "    <tr>\n",
       "      <th>56</th>\n",
       "      <td>(マックバースト） mach burst 軽い コンフォート 穴開き スポーツ サドル 痛く...</td>\n",
       "      <td>（選べるカラー） ロードバイク 軽量 メッシュ サドル /　自転車 （並行輸入品） (黒)</td>\n",
       "      <td>通気性抜群！ ロードバイク用 軽量スパイダー メッシュ サドル 適度なしなりで疲労感を抑え、...</td>\n",
       "    </tr>\n",
       "    <tr>\n",
       "      <th>57</th>\n",
       "      <td>(マックバースト） mach burst 軽い コンフォート 穴開き スポーツ サドル 痛く...</td>\n",
       "      <td>(マックバースト） Mach Burst 軽い コンフォート 穴開き スポーツ サドル 痛く...</td>\n",
       "      <td>この商品は、ややワイドなシルエットにセンターカットアウトを加えたコンフォートスポーツサドルで...</td>\n",
       "    </tr>\n",
       "    <tr>\n",
       "      <th>71</th>\n",
       "      <td>(マックバースト） mach burst 軽い コンフォート 穴開き スポーツ サドル 痛く...</td>\n",
       "      <td>(キャット ハンド) Cat Hand 自転車 サドル 穴あき スポーツサドル ロードバイク...</td>\n",
       "      <td>&lt;b&gt;【商品概要】&lt;/b&gt;&lt;br&gt; &lt;br&gt; 流線型がスタイリッシュなスポーツタイプのサドル...</td>\n",
       "    </tr>\n",
       "    <tr>\n",
       "      <th>83</th>\n",
       "      <td>(マックバースト） mach burst 軽い コンフォート 穴開き スポーツ サドル 痛く...</td>\n",
       "      <td>自転車 低反発 サドル 厚手クッション やわらかタイプ ロードバイク マウンテンバイク 通気...</td>\n",
       "      <td>梱包内容：自転車用シート* 1</td>\n",
       "    </tr>\n",
       "  </tbody>\n",
       "</table>\n",
       "</div>"
      ],
      "text/plain": [
       "                                                query  \\\n",
       "56  (マックバースト） mach burst 軽い コンフォート 穴開き スポーツ サドル 痛く...   \n",
       "57  (マックバースト） mach burst 軽い コンフォート 穴開き スポーツ サドル 痛く...   \n",
       "71  (マックバースト） mach burst 軽い コンフォート 穴開き スポーツ サドル 痛く...   \n",
       "83  (マックバースト） mach burst 軽い コンフォート 穴開き スポーツ サドル 痛く...   \n",
       "\n",
       "                                        product_title  \\\n",
       "56      （選べるカラー） ロードバイク 軽量 メッシュ サドル /　自転車 （並行輸入品） (黒)   \n",
       "57  (マックバースト） Mach Burst 軽い コンフォート 穴開き スポーツ サドル 痛く...   \n",
       "71  (キャット ハンド) Cat Hand 自転車 サドル 穴あき スポーツサドル ロードバイク...   \n",
       "83  自転車 低反発 サドル 厚手クッション やわらかタイプ ロードバイク マウンテンバイク 通気...   \n",
       "\n",
       "                                  product_description  \n",
       "56  通気性抜群！ ロードバイク用 軽量スパイダー メッシュ サドル 適度なしなりで疲労感を抑え、...  \n",
       "57  この商品は、ややワイドなシルエットにセンターカットアウトを加えたコンフォートスポーツサドルで...  \n",
       "71  <b>【商品概要】</b><br> <br> 流線型がスタイリッシュなスポーツタイプのサドル...  \n",
       "83                                    梱包内容：自転車用シート* 1  "
      ]
     },
     "execution_count": 75,
     "metadata": {},
     "output_type": "execute_result"
    }
   ],
   "source": [
    "relevant_df.loc[train['query']==neg_q, use_cols]"
   ]
  },
  {
   "cell_type": "markdown",
   "id": "37083de3-755e-4624-aad9-fe085213fe6a",
   "metadata": {},
   "source": [
    "## Exp2\n",
    "- スコア関数は`title bm25 * 10 + description bm25 * 0.1`\n",
    "- 各クエリで100件ずつ取得し、そのrecall@100の分布を調べる"
   ]
  },
  {
   "cell_type": "code",
   "execution_count": 76,
   "id": "788574d8-61e2-4de5-8d89-318f0857aeea",
   "metadata": {},
   "outputs": [
    {
     "name": "stderr",
     "output_type": "stream",
     "text": [
      "100%|█████████████████████████████████████████████████████████████████████████████████████████████████████████████████████████████| 7247/7247 [02:13<00:00, 54.16it/s]\n"
     ]
    }
   ],
   "source": [
    "queries = []\n",
    "recalls = []\n",
    "for q, gr in tqdm.tqdm(relevant_df.groupby('query')):\n",
    "    req = search_pb2.Request(keyword=q)\n",
    "    res = stub.Search(req)\n",
    "    res_ids = set(map(lambda x: x.id, res.docs))\n",
    "    true_ids = set(gr.product_id.unique())\n",
    "    recall = len(res_ids&true_ids)/len(true_ids)\n",
    "    recalls.append(recall)\n",
    "    queries.append(q)"
   ]
  },
  {
   "cell_type": "code",
   "execution_count": 77,
   "id": "619065ba-a0f3-4afd-b426-609ec158e6fc",
   "metadata": {},
   "outputs": [
    {
     "data": {
      "text/plain": [
       "(array([1290.,  466.,  594.,  501.,  508.,  755.,  650.,  589.,  681.,\n",
       "        1213.]),\n",
       " array([0. , 0.1, 0.2, 0.3, 0.4, 0.5, 0.6, 0.7, 0.8, 0.9, 1. ]),\n",
       " <BarContainer object of 10 artists>)"
      ]
     },
     "execution_count": 77,
     "metadata": {},
     "output_type": "execute_result"
    },
    {
     "data": {
      "image/png": "[encoded data removed]",
      "text/plain": [
       "<Figure size 640x480 with 1 Axes>"
      ]
     },
     "metadata": {},
     "output_type": "display_data"
    }
   ],
   "source": [
    "plt.hist(recalls)"
   ]
  },
  {
   "cell_type": "code",
   "execution_count": 78,
   "id": "60ed4e5f-e5d3-427e-8ca8-688a5c402f04",
   "metadata": {},
   "outputs": [
    {
     "data": {
      "text/plain": [
       "count    7247.000000\n",
       "mean        0.504890\n",
       "std         0.336764\n",
       "min         0.000000\n",
       "25%         0.200000\n",
       "50%         0.516129\n",
       "75%         0.800000\n",
       "max         1.000000\n",
       "dtype: float64"
      ]
     },
     "execution_count": 78,
     "metadata": {},
     "output_type": "execute_result"
    }
   ],
   "source": [
    "pd.Series(recalls).describe()"
   ]
  },
  {
   "cell_type": "code",
   "execution_count": 79,
   "id": "19c18006-bb5e-4783-a6c8-ab009c73b8fb",
   "metadata": {},
   "outputs": [],
   "source": [
    "pos_q = queries[np.argmax(recalls)]\n",
    "neg_q = queries[np.argmin(recalls)]\n",
    "use_cols = ['query', 'product_title', 'product_description']"
   ]
  },
  {
   "cell_type": "code",
   "execution_count": 80,
   "id": "5d69f0a0-9b5b-4cbd-a4b6-01995a26acac",
   "metadata": {},
   "outputs": [
    {
     "data": {
      "text/html": [
       "<div>\n",
       "<style scoped>\n",
       "    .dataframe tbody tr th:only-of-type {\n",
       "        vertical-align: middle;\n",
       "    }\n",
       "\n",
       "    .dataframe tbody tr th {\n",
       "        vertical-align: top;\n",
       "    }\n",
       "\n",
       "    .dataframe thead th {\n",
       "        text-align: right;\n",
       "    }\n",
       "</style>\n",
       "<table border=\"1\" class=\"dataframe\">\n",
       "  <thead>\n",
       "    <tr style=\"text-align: right;\">\n",
       "      <th></th>\n",
       "      <th>query</th>\n",
       "      <th>product_title</th>\n",
       "      <th>product_description</th>\n",
       "    </tr>\n",
       "  </thead>\n",
       "  <tbody>\n",
       "    <tr>\n",
       "      <th>99</th>\n",
       "      <td>(知っていることはあまりないけれど)家族です</td>\n",
       "      <td>韓国ドラマ 《知っていることはあまりないけれど家族です》 全話セット DVD版 日本語字幕</td>\n",
       "      <td>韓国ドラマ　《知っていることはあまりないけれど家族です》　全話セット　DVD版　日本語字幕です。</td>\n",
       "    </tr>\n",
       "  </tbody>\n",
       "</table>\n",
       "</div>"
      ],
      "text/plain": [
       "                     query                                  product_title  \\\n",
       "99  (知っていることはあまりないけれど)家族です  韓国ドラマ 《知っていることはあまりないけれど家族です》 全話セット DVD版 日本語字幕   \n",
       "\n",
       "                                 product_description  \n",
       "99  韓国ドラマ　《知っていることはあまりないけれど家族です》　全話セット　DVD版　日本語字幕です。  "
      ]
     },
     "execution_count": 80,
     "metadata": {},
     "output_type": "execute_result"
    }
   ],
   "source": [
    "relevant_df.loc[train['query']==pos_q, use_cols]"
   ]
  },
  {
   "cell_type": "code",
   "execution_count": 81,
   "id": "69815eb7-915f-4f44-8ef8-7bd359970c3b",
   "metadata": {},
   "outputs": [
    {
     "data": {
      "text/html": [
       "<div>\n",
       "<style scoped>\n",
       "    .dataframe tbody tr th:only-of-type {\n",
       "        vertical-align: middle;\n",
       "    }\n",
       "\n",
       "    .dataframe tbody tr th {\n",
       "        vertical-align: top;\n",
       "    }\n",
       "\n",
       "    .dataframe thead th {\n",
       "        text-align: right;\n",
       "    }\n",
       "</style>\n",
       "<table border=\"1\" class=\"dataframe\">\n",
       "  <thead>\n",
       "    <tr style=\"text-align: right;\">\n",
       "      <th></th>\n",
       "      <th>query</th>\n",
       "      <th>product_title</th>\n",
       "      <th>product_description</th>\n",
       "    </tr>\n",
       "  </thead>\n",
       "  <tbody>\n",
       "    <tr>\n",
       "      <th>56</th>\n",
       "      <td>(マックバースト） mach burst 軽い コンフォート 穴開き スポーツ サドル 痛く...</td>\n",
       "      <td>（選べるカラー） ロードバイク 軽量 メッシュ サドル /　自転車 （並行輸入品） (黒)</td>\n",
       "      <td>通気性抜群！ ロードバイク用 軽量スパイダー メッシュ サドル 適度なしなりで疲労感を抑え、...</td>\n",
       "    </tr>\n",
       "    <tr>\n",
       "      <th>57</th>\n",
       "      <td>(マックバースト） mach burst 軽い コンフォート 穴開き スポーツ サドル 痛く...</td>\n",
       "      <td>(マックバースト） Mach Burst 軽い コンフォート 穴開き スポーツ サドル 痛く...</td>\n",
       "      <td>この商品は、ややワイドなシルエットにセンターカットアウトを加えたコンフォートスポーツサドルで...</td>\n",
       "    </tr>\n",
       "    <tr>\n",
       "      <th>71</th>\n",
       "      <td>(マックバースト） mach burst 軽い コンフォート 穴開き スポーツ サドル 痛く...</td>\n",
       "      <td>(キャット ハンド) Cat Hand 自転車 サドル 穴あき スポーツサドル ロードバイク...</td>\n",
       "      <td>&lt;b&gt;【商品概要】&lt;/b&gt;&lt;br&gt; &lt;br&gt; 流線型がスタイリッシュなスポーツタイプのサドル...</td>\n",
       "    </tr>\n",
       "    <tr>\n",
       "      <th>83</th>\n",
       "      <td>(マックバースト） mach burst 軽い コンフォート 穴開き スポーツ サドル 痛く...</td>\n",
       "      <td>自転車 低反発 サドル 厚手クッション やわらかタイプ ロードバイク マウンテンバイク 通気...</td>\n",
       "      <td>梱包内容：自転車用シート* 1</td>\n",
       "    </tr>\n",
       "  </tbody>\n",
       "</table>\n",
       "</div>"
      ],
      "text/plain": [
       "                                                query  \\\n",
       "56  (マックバースト） mach burst 軽い コンフォート 穴開き スポーツ サドル 痛く...   \n",
       "57  (マックバースト） mach burst 軽い コンフォート 穴開き スポーツ サドル 痛く...   \n",
       "71  (マックバースト） mach burst 軽い コンフォート 穴開き スポーツ サドル 痛く...   \n",
       "83  (マックバースト） mach burst 軽い コンフォート 穴開き スポーツ サドル 痛く...   \n",
       "\n",
       "                                        product_title  \\\n",
       "56      （選べるカラー） ロードバイク 軽量 メッシュ サドル /　自転車 （並行輸入品） (黒)   \n",
       "57  (マックバースト） Mach Burst 軽い コンフォート 穴開き スポーツ サドル 痛く...   \n",
       "71  (キャット ハンド) Cat Hand 自転車 サドル 穴あき スポーツサドル ロードバイク...   \n",
       "83  自転車 低反発 サドル 厚手クッション やわらかタイプ ロードバイク マウンテンバイク 通気...   \n",
       "\n",
       "                                  product_description  \n",
       "56  通気性抜群！ ロードバイク用 軽量スパイダー メッシュ サドル 適度なしなりで疲労感を抑え、...  \n",
       "57  この商品は、ややワイドなシルエットにセンターカットアウトを加えたコンフォートスポーツサドルで...  \n",
       "71  <b>【商品概要】</b><br> <br> 流線型がスタイリッシュなスポーツタイプのサドル...  \n",
       "83                                    梱包内容：自転車用シート* 1  "
      ]
     },
     "execution_count": 81,
     "metadata": {},
     "output_type": "execute_result"
    }
   ],
   "source": [
    "relevant_df.loc[train['query']==neg_q, use_cols]"
   ]
  },
  {
   "cell_type": "code",
   "execution_count": null,
   "id": "505da002-d815-45d3-a7c4-4dc8965b5c96",
   "metadata": {},
   "outputs": [],
   "source": [
    "# あまり変わらないが少し悪くなった"
   ]
  },
  {
   "cell_type": "markdown",
   "id": "f82101a2-b60c-4b99-aaa3-58b1f7346b5a",
   "metadata": {},
   "source": [
    "## Exp3\n",
    "- スコア関数は`title bm25 * 1 + description bm25 * 0.1`\n",
    "- 各クエリで200件ずつ取得し、そのrecall@200の分布を調べる"
   ]
  },
  {
   "cell_type": "code",
   "execution_count": 83,
   "id": "a9d70bc9-637d-4552-8f79-9ca7ed6ca3f7",
   "metadata": {},
   "outputs": [
    {
     "name": "stderr",
     "output_type": "stream",
     "text": [
      "100%|█████████████████████████████████████████████████████████████████████████████████████████████████████████████████████████████| 7247/7247 [03:23<00:00, 35.69it/s]\n"
     ]
    }
   ],
   "source": [
    "queries = []\n",
    "recalls = []\n",
    "for q, gr in tqdm.tqdm(relevant_df.groupby('query')):\n",
    "    req = search_pb2.Request(keyword=q)\n",
    "    res = stub.Search(req)\n",
    "    res_ids = set(map(lambda x: x.id, res.docs))\n",
    "    true_ids = set(gr.product_id.unique())\n",
    "    recall = len(res_ids&true_ids)/len(true_ids)\n",
    "    recalls.append(recall)\n",
    "    queries.append(q)"
   ]
  },
  {
   "cell_type": "code",
   "execution_count": 84,
   "id": "f635fe50-71f5-448e-9766-96a4db3f340d",
   "metadata": {},
   "outputs": [
    {
     "data": {
      "text/plain": [
       "(array([1119.,  381.,  501.,  404.,  437.,  718.,  603.,  625.,  860.,\n",
       "        1599.]),\n",
       " array([0. , 0.1, 0.2, 0.3, 0.4, 0.5, 0.6, 0.7, 0.8, 0.9, 1. ]),\n",
       " <BarContainer object of 10 artists>)"
      ]
     },
     "execution_count": 84,
     "metadata": {},
     "output_type": "execute_result"
    },
    {
     "data": {
      "image/png": "[encoded data removed]",
      "text/plain": [
       "<Figure size 640x480 with 1 Axes>"
      ]
     },
     "metadata": {},
     "output_type": "display_data"
    }
   ],
   "source": [
    "plt.hist(recalls)"
   ]
  },
  {
   "cell_type": "code",
   "execution_count": 85,
   "id": "7c54ac97-c7bf-4f85-b2b0-e4c5047d2349",
   "metadata": {},
   "outputs": [
    {
     "data": {
      "text/plain": [
       "count    7247.000000\n",
       "mean        0.560730\n",
       "std         0.342257\n",
       "min         0.000000\n",
       "25%         0.250000\n",
       "50%         0.617647\n",
       "75%         0.871381\n",
       "max         1.000000\n",
       "dtype: float64"
      ]
     },
     "execution_count": 85,
     "metadata": {},
     "output_type": "execute_result"
    }
   ],
   "source": [
    "pd.Series(recalls).describe()"
   ]
  },
  {
   "cell_type": "code",
   "execution_count": 86,
   "id": "c89c652e-bf67-43bc-a17b-4dc2b53ee84f",
   "metadata": {},
   "outputs": [],
   "source": [
    "pos_q = queries[np.argmax(recalls)]\n",
    "neg_q = queries[np.argmin(recalls)]\n",
    "use_cols = ['query', 'product_title', 'product_description']"
   ]
  },
  {
   "cell_type": "code",
   "execution_count": 87,
   "id": "82b4771d-351c-472e-a8bb-55071aad5310",
   "metadata": {},
   "outputs": [
    {
     "data": {
      "text/html": [
       "<div>\n",
       "<style scoped>\n",
       "    .dataframe tbody tr th:only-of-type {\n",
       "        vertical-align: middle;\n",
       "    }\n",
       "\n",
       "    .dataframe tbody tr th {\n",
       "        vertical-align: top;\n",
       "    }\n",
       "\n",
       "    .dataframe thead th {\n",
       "        text-align: right;\n",
       "    }\n",
       "</style>\n",
       "<table border=\"1\" class=\"dataframe\">\n",
       "  <thead>\n",
       "    <tr style=\"text-align: right;\">\n",
       "      <th></th>\n",
       "      <th>query</th>\n",
       "      <th>product_title</th>\n",
       "      <th>product_description</th>\n",
       "    </tr>\n",
       "  </thead>\n",
       "  <tbody>\n",
       "    <tr>\n",
       "      <th>99</th>\n",
       "      <td>(知っていることはあまりないけれど)家族です</td>\n",
       "      <td>韓国ドラマ 《知っていることはあまりないけれど家族です》 全話セット DVD版 日本語字幕</td>\n",
       "      <td>韓国ドラマ　《知っていることはあまりないけれど家族です》　全話セット　DVD版　日本語字幕です。</td>\n",
       "    </tr>\n",
       "  </tbody>\n",
       "</table>\n",
       "</div>"
      ],
      "text/plain": [
       "                     query                                  product_title  \\\n",
       "99  (知っていることはあまりないけれど)家族です  韓国ドラマ 《知っていることはあまりないけれど家族です》 全話セット DVD版 日本語字幕   \n",
       "\n",
       "                                 product_description  \n",
       "99  韓国ドラマ　《知っていることはあまりないけれど家族です》　全話セット　DVD版　日本語字幕です。  "
      ]
     },
     "execution_count": 87,
     "metadata": {},
     "output_type": "execute_result"
    }
   ],
   "source": [
    "relevant_df.loc[train['query']==pos_q, use_cols]"
   ]
  },
  {
   "cell_type": "code",
   "execution_count": 88,
   "id": "71f632fa-e110-465c-a66a-da251991954a",
   "metadata": {
    "scrolled": true
   },
   "outputs": [
    {
     "data": {
      "text/html": [
       "<div>\n",
       "<style scoped>\n",
       "    .dataframe tbody tr th:only-of-type {\n",
       "        vertical-align: middle;\n",
       "    }\n",
       "\n",
       "    .dataframe tbody tr th {\n",
       "        vertical-align: top;\n",
       "    }\n",
       "\n",
       "    .dataframe thead th {\n",
       "        text-align: right;\n",
       "    }\n",
       "</style>\n",
       "<table border=\"1\" class=\"dataframe\">\n",
       "  <thead>\n",
       "    <tr style=\"text-align: right;\">\n",
       "      <th></th>\n",
       "      <th>query</th>\n",
       "      <th>product_title</th>\n",
       "      <th>product_description</th>\n",
       "    </tr>\n",
       "  </thead>\n",
       "  <tbody>\n",
       "    <tr>\n",
       "      <th>56</th>\n",
       "      <td>(マックバースト） mach burst 軽い コンフォート 穴開き スポーツ サドル 痛く...</td>\n",
       "      <td>（選べるカラー） ロードバイク 軽量 メッシュ サドル /　自転車 （並行輸入品） (黒)</td>\n",
       "      <td>通気性抜群！ ロードバイク用 軽量スパイダー メッシュ サドル 適度なしなりで疲労感を抑え、...</td>\n",
       "    </tr>\n",
       "    <tr>\n",
       "      <th>57</th>\n",
       "      <td>(マックバースト） mach burst 軽い コンフォート 穴開き スポーツ サドル 痛く...</td>\n",
       "      <td>(マックバースト） Mach Burst 軽い コンフォート 穴開き スポーツ サドル 痛く...</td>\n",
       "      <td>この商品は、ややワイドなシルエットにセンターカットアウトを加えたコンフォートスポーツサドルで...</td>\n",
       "    </tr>\n",
       "    <tr>\n",
       "      <th>71</th>\n",
       "      <td>(マックバースト） mach burst 軽い コンフォート 穴開き スポーツ サドル 痛く...</td>\n",
       "      <td>(キャット ハンド) Cat Hand 自転車 サドル 穴あき スポーツサドル ロードバイク...</td>\n",
       "      <td>&lt;b&gt;【商品概要】&lt;/b&gt;&lt;br&gt; &lt;br&gt; 流線型がスタイリッシュなスポーツタイプのサドル...</td>\n",
       "    </tr>\n",
       "    <tr>\n",
       "      <th>83</th>\n",
       "      <td>(マックバースト） mach burst 軽い コンフォート 穴開き スポーツ サドル 痛く...</td>\n",
       "      <td>自転車 低反発 サドル 厚手クッション やわらかタイプ ロードバイク マウンテンバイク 通気...</td>\n",
       "      <td>梱包内容：自転車用シート* 1</td>\n",
       "    </tr>\n",
       "  </tbody>\n",
       "</table>\n",
       "</div>"
      ],
      "text/plain": [
       "                                                query  \\\n",
       "56  (マックバースト） mach burst 軽い コンフォート 穴開き スポーツ サドル 痛く...   \n",
       "57  (マックバースト） mach burst 軽い コンフォート 穴開き スポーツ サドル 痛く...   \n",
       "71  (マックバースト） mach burst 軽い コンフォート 穴開き スポーツ サドル 痛く...   \n",
       "83  (マックバースト） mach burst 軽い コンフォート 穴開き スポーツ サドル 痛く...   \n",
       "\n",
       "                                        product_title  \\\n",
       "56      （選べるカラー） ロードバイク 軽量 メッシュ サドル /　自転車 （並行輸入品） (黒)   \n",
       "57  (マックバースト） Mach Burst 軽い コンフォート 穴開き スポーツ サドル 痛く...   \n",
       "71  (キャット ハンド) Cat Hand 自転車 サドル 穴あき スポーツサドル ロードバイク...   \n",
       "83  自転車 低反発 サドル 厚手クッション やわらかタイプ ロードバイク マウンテンバイク 通気...   \n",
       "\n",
       "                                  product_description  \n",
       "56  通気性抜群！ ロードバイク用 軽量スパイダー メッシュ サドル 適度なしなりで疲労感を抑え、...  \n",
       "57  この商品は、ややワイドなシルエットにセンターカットアウトを加えたコンフォートスポーツサドルで...  \n",
       "71  <b>【商品概要】</b><br> <br> 流線型がスタイリッシュなスポーツタイプのサドル...  \n",
       "83                                    梱包内容：自転車用シート* 1  "
      ]
     },
     "execution_count": 88,
     "metadata": {},
     "output_type": "execute_result"
    }
   ],
   "source": [
    "relevant_df.loc[train['query']==neg_q, use_cols]"
   ]
  },
  {
   "cell_type": "code",
   "execution_count": null,
   "id": "a781a2ab-9715-4349-9c4d-76d5b5b4f3d6",
   "metadata": {},
   "outputs": [],
   "source": [
    "# 中央値が10%くらい上がったのでrecall自体は改善しているが平均があまり変わってないことから無理なものは無理という感じか"
   ]
  }
 ],
 "metadata": {
  "kernelspec": {
   "display_name": "Python 3 (ipykernel)",
   "language": "python",
   "name": "python3"
  },
  "language_info": {
   "codemirror_mode": {
    "name": "ipython",
    "version": 3
   },
   "file_extension": ".py",
   "mimetype": "text/x-python",
   "name": "python",
   "nbconvert_exporter": "python",
   "pygments_lexer": "ipython3",
   "version": "3.10.8"
  }
 },
 "nbformat": 4,
 "nbformat_minor": 5
}
