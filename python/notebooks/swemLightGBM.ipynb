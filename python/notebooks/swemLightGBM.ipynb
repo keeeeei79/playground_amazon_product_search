{
 "cells": [
  {
   "cell_type": "code",
   "execution_count": 1,
   "id": "066237ed-2d4e-476d-a477-4f087e648e83",
   "metadata": {},
   "outputs": [],
   "source": [
    "import pandas as pd\n",
    "import numpy as np"
   ]
  },
  {
   "cell_type": "code",
   "execution_count": 2,
   "id": "777d84ba-0c52-473f-ae2c-0ed69dd9bee5",
   "metadata": {},
   "outputs": [],
   "source": [
    "train = pd.read_csv('../../data/examples_train.csv', usecols=['example_id', 'query_id', 'product_id', 'esci_label'])"
   ]
  },
  {
   "cell_type": "code",
   "execution_count": 3,
   "id": "c94719ac-a40b-4cd5-a1ec-f125c484c07e",
   "metadata": {},
   "outputs": [],
   "source": [
    "rank_label = {\n",
    "    0: 1,\n",
    "    0.01: 2,\n",
    "    0.1: 3,\n",
    "    1: 4,\n",
    "}"
   ]
  },
  {
   "cell_type": "code",
   "execution_count": 4,
   "id": "b0344ac2-c0e0-4fdd-b675-ce8108324802",
   "metadata": {},
   "outputs": [],
   "source": [
    "train['rank_label'] = train['esci_label'].map(rank_label)"
   ]
  },
  {
   "cell_type": "code",
   "execution_count": 5,
   "id": "ade0502c-96d2-4815-b70b-b32f43c51a87",
   "metadata": {},
   "outputs": [],
   "source": [
    "train['query_group_size'] = train.groupby('query_id').transform('size')"
   ]
  },
  {
   "cell_type": "code",
   "execution_count": 6,
   "id": "6b2a323d-e61e-4475-8f0e-824516c43467",
   "metadata": {},
   "outputs": [],
   "source": [
    "train = train.sort_values(['query_id', 'product_id'])"
   ]
  },
  {
   "cell_type": "code",
   "execution_count": 7,
   "id": "3a4145ad-4cd5-4c00-9a36-1a48a0c4b918",
   "metadata": {},
   "outputs": [
    {
     "data": {
      "text/html": [
       "<div>\n",
       "<style scoped>\n",
       "    .dataframe tbody tr th:only-of-type {\n",
       "        vertical-align: middle;\n",
       "    }\n",
       "\n",
       "    .dataframe tbody tr th {\n",
       "        vertical-align: top;\n",
       "    }\n",
       "\n",
       "    .dataframe thead th {\n",
       "        text-align: right;\n",
       "    }\n",
       "</style>\n",
       "<table border=\"1\" class=\"dataframe\">\n",
       "  <thead>\n",
       "    <tr style=\"text-align: right;\">\n",
       "      <th></th>\n",
       "      <th>example_id</th>\n",
       "      <th>query_id</th>\n",
       "      <th>product_id</th>\n",
       "      <th>esci_label</th>\n",
       "      <th>rank_label</th>\n",
       "      <th>query_group_size</th>\n",
       "    </tr>\n",
       "  </thead>\n",
       "  <tbody>\n",
       "    <tr>\n",
       "      <th>22</th>\n",
       "      <td>3523</td>\n",
       "      <td>116</td>\n",
       "      <td>B00M2DPUKI</td>\n",
       "      <td>0.1</td>\n",
       "      <td>3</td>\n",
       "      <td>40</td>\n",
       "    </tr>\n",
       "    <tr>\n",
       "      <th>23</th>\n",
       "      <td>3524</td>\n",
       "      <td>116</td>\n",
       "      <td>B00M2DPVFW</td>\n",
       "      <td>1.0</td>\n",
       "      <td>4</td>\n",
       "      <td>40</td>\n",
       "    </tr>\n",
       "    <tr>\n",
       "      <th>25</th>\n",
       "      <td>3525</td>\n",
       "      <td>116</td>\n",
       "      <td>B00X51IAOO</td>\n",
       "      <td>1.0</td>\n",
       "      <td>4</td>\n",
       "      <td>40</td>\n",
       "    </tr>\n",
       "    <tr>\n",
       "      <th>26</th>\n",
       "      <td>3526</td>\n",
       "      <td>116</td>\n",
       "      <td>B00X51IAR6</td>\n",
       "      <td>0.1</td>\n",
       "      <td>3</td>\n",
       "      <td>40</td>\n",
       "    </tr>\n",
       "    <tr>\n",
       "      <th>27</th>\n",
       "      <td>3527</td>\n",
       "      <td>116</td>\n",
       "      <td>B00X51IJ4K</td>\n",
       "      <td>1.0</td>\n",
       "      <td>4</td>\n",
       "      <td>40</td>\n",
       "    </tr>\n",
       "  </tbody>\n",
       "</table>\n",
       "</div>"
      ],
      "text/plain": [
       "    example_id  query_id  product_id  esci_label  rank_label  query_group_size\n",
       "22        3523       116  B00M2DPUKI         0.1           3                40\n",
       "23        3524       116  B00M2DPVFW         1.0           4                40\n",
       "25        3525       116  B00X51IAOO         1.0           4                40\n",
       "26        3526       116  B00X51IAR6         0.1           3                40\n",
       "27        3527       116  B00X51IJ4K         1.0           4                40"
      ]
     },
     "execution_count": 7,
     "metadata": {},
     "output_type": "execute_result"
    }
   ],
   "source": [
    "train.head()"
   ]
  },
  {
   "cell_type": "code",
   "execution_count": 8,
   "id": "04a39d01-cab7-4e28-838f-3832252d410b",
   "metadata": {},
   "outputs": [],
   "source": [
    "train_query = np.load('../../data/train_query.npy')\n",
    "train_title = np.load('../../data/train_title.npy')"
   ]
  },
  {
   "cell_type": "code",
   "execution_count": 9,
   "id": "c786c48a-6df3-4b68-89a4-4c1b1426a3ff",
   "metadata": {},
   "outputs": [],
   "source": [
    "train_query = train_query[train.index]\n",
    "train_title = train_title[train.index]"
   ]
  },
  {
   "cell_type": "code",
   "execution_count": 10,
   "id": "4dde438b-1a45-44e6-b1dc-fc7a0f6efd33",
   "metadata": {
    "scrolled": true
   },
   "outputs": [
    {
     "data": {
      "text/plain": [
       "(172538, 6)"
      ]
     },
     "execution_count": 10,
     "metadata": {},
     "output_type": "execute_result"
    }
   ],
   "source": [
    "train.shape"
   ]
  },
  {
   "cell_type": "markdown",
   "id": "867588ba-0726-448c-9aac-106098257445",
   "metadata": {},
   "source": [
    "# Modeling"
   ]
  },
  {
   "cell_type": "code",
   "execution_count": 11,
   "id": "fe45de58-17d1-4753-adf3-95ecd9a94eee",
   "metadata": {},
   "outputs": [],
   "source": [
    "from lightgbm import LGBMRanker\n",
    "import lightgbm as lgb\n",
    "from sklearn.model_selection import GroupKFold"
   ]
  },
  {
   "cell_type": "code",
   "execution_count": 12,
   "id": "b5969a1a-a967-4392-b6de-2e6ce13a20ef",
   "metadata": {},
   "outputs": [],
   "source": [
    "kfold = GroupKFold(n_splits=5)"
   ]
  },
  {
   "cell_type": "code",
   "execution_count": 13,
   "id": "4b05e639-36aa-4c2f-b864-bdbe9776b909",
   "metadata": {},
   "outputs": [],
   "source": [
    "train_idx, valid_idx = next(kfold.split(X=train, y=None, groups=train['query_id']))"
   ]
  },
  {
   "cell_type": "code",
   "execution_count": 14,
   "id": "e8c68a55-5f6b-47e9-902d-f46de02d4b44",
   "metadata": {},
   "outputs": [],
   "source": [
    "train, valid = train.iloc[train_idx], train.iloc[valid_idx]"
   ]
  },
  {
   "cell_type": "code",
   "execution_count": 15,
   "id": "60dfaebb-3fbe-4f88-b46f-322bb8a82076",
   "metadata": {},
   "outputs": [],
   "source": [
    "model = LGBMRanker(n_estimators=10000, random_state=42, n_jobs=-1)"
   ]
  },
  {
   "cell_type": "code",
   "execution_count": 16,
   "id": "714a1fd6-76b6-4f8c-9244-1b65d4c3d161",
   "metadata": {},
   "outputs": [],
   "source": [
    "train_feat = np.hstack([train_query[train_idx], train_title[train_idx]])\n",
    "valid_feat = np.hstack([train_query[valid_idx], train_title[valid_idx]])"
   ]
  },
  {
   "cell_type": "code",
   "execution_count": 17,
   "id": "75de24e2-4f64-48a8-aa60-b55c95fc3378",
   "metadata": {},
   "outputs": [],
   "source": [
    "train_group = train.groupby('query_id').head(1)['query_group_size'].tolist()\n",
    "valid_group = valid.groupby('query_id').head(1)['query_group_size'].tolist()"
   ]
  },
  {
   "cell_type": "code",
   "execution_count": 18,
   "id": "8eb0144a-5473-4427-8392-f79adc5d471c",
   "metadata": {},
   "outputs": [
    {
     "name": "stdout",
     "output_type": "stream",
     "text": [
      "[LightGBM] [Warning] Auto-choosing row-wise multi-threading, the overhead of testing was 0.060588 seconds.\n",
      "You can set `force_row_wise=true` to remove the overhead.\n",
      "And if memory is not enough, you can set `force_col_wise=true`.\n",
      "[LightGBM] [Info] Total Bins 152369\n",
      "[LightGBM] [Info] Number of data points in the train set: 138030, number of used features: 600\n",
      "Training until validation scores don't improve for 20 rounds\n",
      "Early stopping, best iteration is:\n",
      "[30]\tvalid_0's ndcg@1: 0.709164\tvalid_0's ndcg@3: 0.72222\n"
     ]
    },
    {
     "data": {
      "text/html": [
       "<style>#sk-container-id-1 {color: black;}#sk-container-id-1 pre{padding: 0;}#sk-container-id-1 div.sk-toggleable {background-color: white;}#sk-container-id-1 label.sk-toggleable__label {cursor: pointer;display: block;width: 100%;margin-bottom: 0;padding: 0.3em;box-sizing: border-box;text-align: center;}#sk-container-id-1 label.sk-toggleable__label-arrow:before {content: \"▸\";float: left;margin-right: 0.25em;color: #696969;}#sk-container-id-1 label.sk-toggleable__label-arrow:hover:before {color: black;}#sk-container-id-1 div.sk-estimator:hover label.sk-toggleable__label-arrow:before {color: black;}#sk-container-id-1 div.sk-toggleable__content {max-height: 0;max-width: 0;overflow: hidden;text-align: left;background-color: #f0f8ff;}#sk-container-id-1 div.sk-toggleable__content pre {margin: 0.2em;color: black;border-radius: 0.25em;background-color: #f0f8ff;}#sk-container-id-1 input.sk-toggleable__control:checked~div.sk-toggleable__content {max-height: 200px;max-width: 100%;overflow: auto;}#sk-container-id-1 input.sk-toggleable__control:checked~label.sk-toggleable__label-arrow:before {content: \"▾\";}#sk-container-id-1 div.sk-estimator input.sk-toggleable__control:checked~label.sk-toggleable__label {background-color: #d4ebff;}#sk-container-id-1 div.sk-label input.sk-toggleable__control:checked~label.sk-toggleable__label {background-color: #d4ebff;}#sk-container-id-1 input.sk-hidden--visually {border: 0;clip: rect(1px 1px 1px 1px);clip: rect(1px, 1px, 1px, 1px);height: 1px;margin: -1px;overflow: hidden;padding: 0;position: absolute;width: 1px;}#sk-container-id-1 div.sk-estimator {font-family: monospace;background-color: #f0f8ff;border: 1px dotted black;border-radius: 0.25em;box-sizing: border-box;margin-bottom: 0.5em;}#sk-container-id-1 div.sk-estimator:hover {background-color: #d4ebff;}#sk-container-id-1 div.sk-parallel-item::after {content: \"\";width: 100%;border-bottom: 1px solid gray;flex-grow: 1;}#sk-container-id-1 div.sk-label:hover label.sk-toggleable__label {background-color: #d4ebff;}#sk-container-id-1 div.sk-serial::before {content: \"\";position: absolute;border-left: 1px solid gray;box-sizing: border-box;top: 0;bottom: 0;left: 50%;z-index: 0;}#sk-container-id-1 div.sk-serial {display: flex;flex-direction: column;align-items: center;background-color: white;padding-right: 0.2em;padding-left: 0.2em;position: relative;}#sk-container-id-1 div.sk-item {position: relative;z-index: 1;}#sk-container-id-1 div.sk-parallel {display: flex;align-items: stretch;justify-content: center;background-color: white;position: relative;}#sk-container-id-1 div.sk-item::before, #sk-container-id-1 div.sk-parallel-item::before {content: \"\";position: absolute;border-left: 1px solid gray;box-sizing: border-box;top: 0;bottom: 0;left: 50%;z-index: -1;}#sk-container-id-1 div.sk-parallel-item {display: flex;flex-direction: column;z-index: 1;position: relative;background-color: white;}#sk-container-id-1 div.sk-parallel-item:first-child::after {align-self: flex-end;width: 50%;}#sk-container-id-1 div.sk-parallel-item:last-child::after {align-self: flex-start;width: 50%;}#sk-container-id-1 div.sk-parallel-item:only-child::after {width: 0;}#sk-container-id-1 div.sk-dashed-wrapped {border: 1px dashed gray;margin: 0 0.4em 0.5em 0.4em;box-sizing: border-box;padding-bottom: 0.4em;background-color: white;}#sk-container-id-1 div.sk-label label {font-family: monospace;font-weight: bold;display: inline-block;line-height: 1.2em;}#sk-container-id-1 div.sk-label-container {text-align: center;}#sk-container-id-1 div.sk-container {/* jupyter's `normalize.less` sets `[hidden] { display: none; }` but bootstrap.min.css set `[hidden] { display: none !important; }` so we also need the `!important` here to be able to override the default hidden behavior on the sphinx rendered scikit-learn.org. See: https://github.com/scikit-learn/scikit-learn/issues/21755 */display: inline-block !important;position: relative;}#sk-container-id-1 div.sk-text-repr-fallback {display: none;}</style><div id=\"sk-container-id-1\" class=\"sk-top-container\"><div class=\"sk-text-repr-fallback\"><pre>LGBMRanker(n_estimators=10000, n_jobs=-1, random_state=42)</pre><b>In a Jupyter environment, please rerun this cell to show the HTML representation or trust the notebook. <br />On GitHub, the HTML representation is unable to render, please try loading this page with nbviewer.org.</b></div><div class=\"sk-container\" hidden><div class=\"sk-item\"><div class=\"sk-estimator sk-toggleable\"><input class=\"sk-toggleable__control sk-hidden--visually\" id=\"sk-estimator-id-1\" type=\"checkbox\" checked><label for=\"sk-estimator-id-1\" class=\"sk-toggleable__label sk-toggleable__label-arrow\">LGBMRanker</label><div class=\"sk-toggleable__content\"><pre>LGBMRanker(n_estimators=10000, n_jobs=-1, random_state=42)</pre></div></div></div></div></div>"
      ],
      "text/plain": [
       "LGBMRanker(n_estimators=10000, n_jobs=-1, random_state=42)"
      ]
     },
     "execution_count": 18,
     "metadata": {},
     "output_type": "execute_result"
    }
   ],
   "source": [
    "model.fit(train_feat, train['rank_label'].values, \n",
    "         group=train_group,\n",
    "         eval_set=[(valid_feat, valid['rank_label'].values)],\n",
    "         eval_group=[valid_group],\n",
    "         eval_at=[1, 3],\n",
    "         callbacks=[lgb.early_stopping(stopping_rounds=20, verbose=True),\n",
    "                    lgb.log_evaluation(0)]\n",
    ")"
   ]
  },
  {
   "cell_type": "code",
   "execution_count": 19,
   "id": "6543d4d6-c8a7-4753-8297-f297003514ad",
   "metadata": {},
   "outputs": [
    {
     "data": {
      "text/plain": [
       "30"
      ]
     },
     "execution_count": 19,
     "metadata": {},
     "output_type": "execute_result"
    }
   ],
   "source": [
    "model.best_iteration_"
   ]
  },
  {
   "cell_type": "markdown",
   "id": "d1a4293d-98c0-42d7-aeb9-90c08416a87f",
   "metadata": {},
   "source": [
    "# Prediction"
   ]
  },
  {
   "cell_type": "code",
   "execution_count": 20,
   "id": "8607ee9f-857e-4365-bb6e-7e356831653b",
   "metadata": {},
   "outputs": [],
   "source": [
    "test = pd.read_csv('../../data/examples_test.csv', usecols=['example_id', 'query_id', 'product_id', 'esci_label'])"
   ]
  },
  {
   "cell_type": "code",
   "execution_count": 21,
   "id": "be62801f-ffc5-44a3-88fc-2039777a5c9a",
   "metadata": {},
   "outputs": [],
   "source": [
    "test['rank_label'] = test['esci_label'].map(rank_label)"
   ]
  },
  {
   "cell_type": "code",
   "execution_count": 22,
   "id": "e50aeb29-d8f5-4ebf-bc50-62a84d399153",
   "metadata": {},
   "outputs": [],
   "source": [
    "test_query = np.load('../../data/test_query.npy')\n",
    "test_title = np.load('../../data/test_title.npy')\n",
    "test_feat = np.hstack([test_query, test_title])"
   ]
  },
  {
   "cell_type": "code",
   "execution_count": 23,
   "id": "c19cb453-0e8a-4957-be50-8ca1f5ce82f6",
   "metadata": {},
   "outputs": [
    {
     "data": {
      "text/plain": [
       "((64432, 5), (64432, 600))"
      ]
     },
     "execution_count": 23,
     "metadata": {},
     "output_type": "execute_result"
    }
   ],
   "source": [
    "test.shape, test_feat.shape"
   ]
  },
  {
   "cell_type": "code",
   "execution_count": 24,
   "id": "d01ffe5d-2f06-4af0-bceb-57697ae37f78",
   "metadata": {},
   "outputs": [],
   "source": [
    "test['pred'] = model.predict(test_feat)"
   ]
  },
  {
   "cell_type": "code",
   "execution_count": 25,
   "id": "9ca3a6a9-c9c7-4901-978e-72b0cfddbcf3",
   "metadata": {},
   "outputs": [
    {
     "data": {
      "text/html": [
       "<div>\n",
       "<style scoped>\n",
       "    .dataframe tbody tr th:only-of-type {\n",
       "        vertical-align: middle;\n",
       "    }\n",
       "\n",
       "    .dataframe tbody tr th {\n",
       "        vertical-align: top;\n",
       "    }\n",
       "\n",
       "    .dataframe thead th {\n",
       "        text-align: right;\n",
       "    }\n",
       "</style>\n",
       "<table border=\"1\" class=\"dataframe\">\n",
       "  <thead>\n",
       "    <tr style=\"text-align: right;\">\n",
       "      <th></th>\n",
       "      <th>example_id</th>\n",
       "      <th>query_id</th>\n",
       "      <th>product_id</th>\n",
       "      <th>esci_label</th>\n",
       "      <th>rank_label</th>\n",
       "      <th>pred</th>\n",
       "    </tr>\n",
       "  </thead>\n",
       "  <tbody>\n",
       "    <tr>\n",
       "      <th>0</th>\n",
       "      <td>12756</td>\n",
       "      <td>438</td>\n",
       "      <td>B08PBJSJM8</td>\n",
       "      <td>0.1</td>\n",
       "      <td>3</td>\n",
       "      <td>-0.192038</td>\n",
       "    </tr>\n",
       "    <tr>\n",
       "      <th>1</th>\n",
       "      <td>12757</td>\n",
       "      <td>438</td>\n",
       "      <td>B087R9X5X7</td>\n",
       "      <td>1.0</td>\n",
       "      <td>4</td>\n",
       "      <td>-0.176171</td>\n",
       "    </tr>\n",
       "    <tr>\n",
       "      <th>2</th>\n",
       "      <td>12758</td>\n",
       "      <td>438</td>\n",
       "      <td>B0881K8XHS</td>\n",
       "      <td>0.1</td>\n",
       "      <td>3</td>\n",
       "      <td>-0.090894</td>\n",
       "    </tr>\n",
       "    <tr>\n",
       "      <th>3</th>\n",
       "      <td>12759</td>\n",
       "      <td>438</td>\n",
       "      <td>B089VZ3RY8</td>\n",
       "      <td>1.0</td>\n",
       "      <td>4</td>\n",
       "      <td>-0.193707</td>\n",
       "    </tr>\n",
       "    <tr>\n",
       "      <th>4</th>\n",
       "      <td>12760</td>\n",
       "      <td>438</td>\n",
       "      <td>B08H142Z8H</td>\n",
       "      <td>0.1</td>\n",
       "      <td>3</td>\n",
       "      <td>0.077221</td>\n",
       "    </tr>\n",
       "    <tr>\n",
       "      <th>5</th>\n",
       "      <td>12761</td>\n",
       "      <td>438</td>\n",
       "      <td>B08H163Q5G</td>\n",
       "      <td>1.0</td>\n",
       "      <td>4</td>\n",
       "      <td>-0.105212</td>\n",
       "    </tr>\n",
       "    <tr>\n",
       "      <th>6</th>\n",
       "      <td>12762</td>\n",
       "      <td>438</td>\n",
       "      <td>B08K35ZN26</td>\n",
       "      <td>1.0</td>\n",
       "      <td>4</td>\n",
       "      <td>-0.099671</td>\n",
       "    </tr>\n",
       "    <tr>\n",
       "      <th>7</th>\n",
       "      <td>12763</td>\n",
       "      <td>438</td>\n",
       "      <td>B093LDN6JM</td>\n",
       "      <td>1.0</td>\n",
       "      <td>4</td>\n",
       "      <td>-0.155512</td>\n",
       "    </tr>\n",
       "    <tr>\n",
       "      <th>8</th>\n",
       "      <td>12764</td>\n",
       "      <td>438</td>\n",
       "      <td>B086DQYLXH</td>\n",
       "      <td>1.0</td>\n",
       "      <td>4</td>\n",
       "      <td>0.012457</td>\n",
       "    </tr>\n",
       "    <tr>\n",
       "      <th>9</th>\n",
       "      <td>12765</td>\n",
       "      <td>438</td>\n",
       "      <td>B093LFS7PX</td>\n",
       "      <td>1.0</td>\n",
       "      <td>4</td>\n",
       "      <td>-0.204995</td>\n",
       "    </tr>\n",
       "    <tr>\n",
       "      <th>10</th>\n",
       "      <td>12767</td>\n",
       "      <td>438</td>\n",
       "      <td>B094XJFD5J</td>\n",
       "      <td>1.0</td>\n",
       "      <td>4</td>\n",
       "      <td>-0.133977</td>\n",
       "    </tr>\n",
       "    <tr>\n",
       "      <th>11</th>\n",
       "      <td>12768</td>\n",
       "      <td>438</td>\n",
       "      <td>B0958285ZM</td>\n",
       "      <td>0.1</td>\n",
       "      <td>3</td>\n",
       "      <td>-0.128287</td>\n",
       "    </tr>\n",
       "    <tr>\n",
       "      <th>12</th>\n",
       "      <td>12769</td>\n",
       "      <td>438</td>\n",
       "      <td>B098379DCK</td>\n",
       "      <td>1.0</td>\n",
       "      <td>4</td>\n",
       "      <td>-0.218737</td>\n",
       "    </tr>\n",
       "    <tr>\n",
       "      <th>13</th>\n",
       "      <td>12771</td>\n",
       "      <td>438</td>\n",
       "      <td>B09D9KRRJV</td>\n",
       "      <td>0.1</td>\n",
       "      <td>3</td>\n",
       "      <td>-0.261320</td>\n",
       "    </tr>\n",
       "    <tr>\n",
       "      <th>14</th>\n",
       "      <td>12772</td>\n",
       "      <td>438</td>\n",
       "      <td>B09D9YMM4H</td>\n",
       "      <td>1.0</td>\n",
       "      <td>4</td>\n",
       "      <td>-0.098538</td>\n",
       "    </tr>\n",
       "    <tr>\n",
       "      <th>15</th>\n",
       "      <td>12773</td>\n",
       "      <td>438</td>\n",
       "      <td>B093LDY7CK</td>\n",
       "      <td>1.0</td>\n",
       "      <td>4</td>\n",
       "      <td>-0.225414</td>\n",
       "    </tr>\n",
       "    <tr>\n",
       "      <th>16</th>\n",
       "      <td>12774</td>\n",
       "      <td>438</td>\n",
       "      <td>B07Z1P9JSW</td>\n",
       "      <td>1.0</td>\n",
       "      <td>4</td>\n",
       "      <td>0.147495</td>\n",
       "    </tr>\n",
       "    <tr>\n",
       "      <th>17</th>\n",
       "      <td>12775</td>\n",
       "      <td>438</td>\n",
       "      <td>B08QDFBS79</td>\n",
       "      <td>1.0</td>\n",
       "      <td>4</td>\n",
       "      <td>-0.172004</td>\n",
       "    </tr>\n",
       "    <tr>\n",
       "      <th>18</th>\n",
       "      <td>12776</td>\n",
       "      <td>438</td>\n",
       "      <td>B07YWN27DP</td>\n",
       "      <td>0.0</td>\n",
       "      <td>1</td>\n",
       "      <td>-0.085136</td>\n",
       "    </tr>\n",
       "    <tr>\n",
       "      <th>19</th>\n",
       "      <td>12777</td>\n",
       "      <td>438</td>\n",
       "      <td>B01I8WVJSI</td>\n",
       "      <td>1.0</td>\n",
       "      <td>4</td>\n",
       "      <td>-0.004219</td>\n",
       "    </tr>\n",
       "  </tbody>\n",
       "</table>\n",
       "</div>"
      ],
      "text/plain": [
       "    example_id  query_id  product_id  esci_label  rank_label      pred\n",
       "0        12756       438  B08PBJSJM8         0.1           3 -0.192038\n",
       "1        12757       438  B087R9X5X7         1.0           4 -0.176171\n",
       "2        12758       438  B0881K8XHS         0.1           3 -0.090894\n",
       "3        12759       438  B089VZ3RY8         1.0           4 -0.193707\n",
       "4        12760       438  B08H142Z8H         0.1           3  0.077221\n",
       "5        12761       438  B08H163Q5G         1.0           4 -0.105212\n",
       "6        12762       438  B08K35ZN26         1.0           4 -0.099671\n",
       "7        12763       438  B093LDN6JM         1.0           4 -0.155512\n",
       "8        12764       438  B086DQYLXH         1.0           4  0.012457\n",
       "9        12765       438  B093LFS7PX         1.0           4 -0.204995\n",
       "10       12767       438  B094XJFD5J         1.0           4 -0.133977\n",
       "11       12768       438  B0958285ZM         0.1           3 -0.128287\n",
       "12       12769       438  B098379DCK         1.0           4 -0.218737\n",
       "13       12771       438  B09D9KRRJV         0.1           3 -0.261320\n",
       "14       12772       438  B09D9YMM4H         1.0           4 -0.098538\n",
       "15       12773       438  B093LDY7CK         1.0           4 -0.225414\n",
       "16       12774       438  B07Z1P9JSW         1.0           4  0.147495\n",
       "17       12775       438  B08QDFBS79         1.0           4 -0.172004\n",
       "18       12776       438  B07YWN27DP         0.0           1 -0.085136\n",
       "19       12777       438  B01I8WVJSI         1.0           4 -0.004219"
      ]
     },
     "execution_count": 25,
     "metadata": {},
     "output_type": "execute_result"
    }
   ],
   "source": [
    "test.head(20)"
   ]
  },
  {
   "cell_type": "code",
   "execution_count": 46,
   "id": "c15d69ec-4ece-4684-b19f-0dfbd429b54d",
   "metadata": {},
   "outputs": [
    {
     "data": {
      "text/html": [
       "<div>\n",
       "<style scoped>\n",
       "    .dataframe tbody tr th:only-of-type {\n",
       "        vertical-align: middle;\n",
       "    }\n",
       "\n",
       "    .dataframe tbody tr th {\n",
       "        vertical-align: top;\n",
       "    }\n",
       "\n",
       "    .dataframe thead th {\n",
       "        text-align: right;\n",
       "    }\n",
       "</style>\n",
       "<table border=\"1\" class=\"dataframe\">\n",
       "  <thead>\n",
       "    <tr style=\"text-align: right;\">\n",
       "      <th></th>\n",
       "      <th>rank_label</th>\n",
       "      <th>pred</th>\n",
       "    </tr>\n",
       "  </thead>\n",
       "  <tbody>\n",
       "    <tr>\n",
       "      <th>rank_label</th>\n",
       "      <td>1.000000</td>\n",
       "      <td>0.131745</td>\n",
       "    </tr>\n",
       "    <tr>\n",
       "      <th>pred</th>\n",
       "      <td>0.131745</td>\n",
       "      <td>1.000000</td>\n",
       "    </tr>\n",
       "  </tbody>\n",
       "</table>\n",
       "</div>"
      ],
      "text/plain": [
       "            rank_label      pred\n",
       "rank_label    1.000000  0.131745\n",
       "pred          0.131745  1.000000"
      ]
     },
     "execution_count": 46,
     "metadata": {},
     "output_type": "execute_result"
    }
   ],
   "source": [
    "test[['rank_label', 'pred']].corr()"
   ]
  },
  {
   "cell_type": "code",
   "execution_count": 26,
   "id": "8a4e319d-5f79-40de-a49f-2b31fb034d3e",
   "metadata": {},
   "outputs": [],
   "source": [
    "from sklearn.metrics import ndcg_score"
   ]
  },
  {
   "cell_type": "code",
   "execution_count": 57,
   "id": "1067b10c-4f06-42f7-85ea-33ca92d410cc",
   "metadata": {
    "scrolled": true
   },
   "outputs": [],
   "source": [
    "scores = []\n",
    "for qid, gr in test.groupby('query_id'):\n",
    "    if len(gr) > 1:\n",
    "        ndcg = ndcg_score(np.asarray([gr['rank_label']]), np.asarray([gr['pred']]))\n",
    "        scores.append(ndcg)"
   ]
  },
  {
   "cell_type": "code",
   "execution_count": 58,
   "id": "67ab894d-db1c-4f1a-b3be-163ed7efd68b",
   "metadata": {},
   "outputs": [
    {
     "data": {
      "text/plain": [
       "<Axes: >"
      ]
     },
     "execution_count": 58,
     "metadata": {},
     "output_type": "execute_result"
    },
    {
     "data": {
      "image/png": "[encoded data removed]",
      "text/plain": [
       "<Figure size 640x480 with 1 Axes>"
      ]
     },
     "metadata": {},
     "output_type": "display_data"
    }
   ],
   "source": [
    "pd.Series(scores).hist()"
   ]
  },
  {
   "cell_type": "code",
   "execution_count": 59,
   "id": "6d5559ea-fb8b-49f0-9a14-7123bcf9c262",
   "metadata": {},
   "outputs": [
    {
     "data": {
      "text/plain": [
       "count    3092.000000\n",
       "mean        0.941046\n",
       "std         0.057794\n",
       "min         0.680414\n",
       "25%         0.922782\n",
       "50%         0.957073\n",
       "75%         0.981810\n",
       "max         1.000000\n",
       "dtype: float64"
      ]
     },
     "execution_count": 59,
     "metadata": {},
     "output_type": "execute_result"
    }
   ],
   "source": [
    "pd.Series(scores).describe()"
   ]
  },
  {
   "cell_type": "code",
   "execution_count": null,
   "id": "e887aac7-a52c-49e0-b088-7ff135587d7a",
   "metadata": {},
   "outputs": [],
   "source": []
  }
 ],
 "metadata": {
  "kernelspec": {
   "display_name": "Python 3 (ipykernel)",
   "language": "python",
   "name": "python3"
  },
  "language_info": {
   "codemirror_mode": {
    "name": "ipython",
    "version": 3
   },
   "file_extension": ".py",
   "mimetype": "text/x-python",
   "name": "python",
   "nbconvert_exporter": "python",
   "pygments_lexer": "ipython3",
   "version": "3.10.8"
  }
 },
 "nbformat": 4,
 "nbformat_minor": 5
}
