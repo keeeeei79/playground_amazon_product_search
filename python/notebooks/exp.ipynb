{
 "cells": [
  {
   "cell_type": "code",
   "execution_count": 1,
   "id": "731e6b8a-c464-45bc-8dcb-10fb89160f05",
   "metadata": {},
   "outputs": [],
   "source": [
    "import sys"
   ]
  },
  {
   "cell_type": "code",
   "execution_count": 2,
   "id": "7e9f5aa4-f663-4e80-a9e2-3f477e97fbbe",
   "metadata": {},
   "outputs": [],
   "source": [
    "sys.path.append('../proto/')"
   ]
  },
  {
   "cell_type": "code",
   "execution_count": 3,
   "id": "c0dbeba8-8118-46a4-863d-8befe2e18021",
   "metadata": {},
   "outputs": [],
   "source": [
    "import search_pb2"
   ]
  },
  {
   "cell_type": "code",
   "execution_count": 4,
   "id": "1d21f9b4-a0e3-42c2-9dc5-011485da1891",
   "metadata": {},
   "outputs": [],
   "source": [
    "import search_pb2_grpc"
   ]
  },
  {
   "cell_type": "code",
   "execution_count": 5,
   "id": "ba46a734-a889-4209-88ae-fc273763078e",
   "metadata": {},
   "outputs": [],
   "source": [
    "import grpc"
   ]
  },
  {
   "cell_type": "code",
   "execution_count": 6,
   "id": "53202197-d270-47ee-bb7e-ad42389b5fa5",
   "metadata": {},
   "outputs": [],
   "source": [
    "channel = grpc.insecure_channel('localhost:50051')\n",
    "stub = search_pb2_grpc.SearchServiceStub(channel)"
   ]
  },
  {
   "cell_type": "code",
   "execution_count": 7,
   "id": "368bb045-2de3-4a3e-b2d1-d2b40aacb28e",
   "metadata": {},
   "outputs": [],
   "source": [
    "req = search_pb2.Request(keyword='sports')"
   ]
  },
  {
   "cell_type": "code",
   "execution_count": 8,
   "id": "95571e61-7b9e-4e1f-9183-1a7ade48b1fd",
   "metadata": {},
   "outputs": [],
   "source": [
    "res = stub.Search(req)"
   ]
  },
  {
   "cell_type": "code",
   "execution_count": 9,
   "id": "09455f2e-29ed-407f-9b13-0b1a126aa5b7",
   "metadata": {},
   "outputs": [],
   "source": [
    "docs = res.docs"
   ]
  },
  {
   "cell_type": "code",
   "execution_count": 10,
   "id": "479f4b11-a94f-4d36-95be-b406c8bdc12a",
   "metadata": {},
   "outputs": [
    {
     "data": {
      "text/plain": [
       "id: \"B0739YRCD9\"\n",
       "title: \"marios sports\"\n",
       "bullet_point: \"Business Card\\nNews\\nSharing\\nMembers Club\"\n",
       "brand: \"PapTap ltd.\""
      ]
     },
     "execution_count": 10,
     "metadata": {},
     "output_type": "execute_result"
    }
   ],
   "source": [
    "docs[0]"
   ]
  }
 ],
 "metadata": {
  "kernelspec": {
   "display_name": "Python 3 (ipykernel)",
   "language": "python",
   "name": "python3"
  },
  "language_info": {
   "codemirror_mode": {
    "name": "ipython",
    "version": 3
   },
   "file_extension": ".py",
   "mimetype": "text/x-python",
   "name": "python",
   "nbconvert_exporter": "python",
   "pygments_lexer": "ipython3",
   "version": "3.10.8"
  }
 },
 "nbformat": 4,
 "nbformat_minor": 5
}
